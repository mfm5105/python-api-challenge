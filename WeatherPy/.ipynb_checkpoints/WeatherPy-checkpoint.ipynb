{
 "cells": [
  {
   "cell_type": "markdown",
   "metadata": {},
   "source": [
    "# WeatherPy\n",
    "----\n",
    "\n",
    "#### Note\n",
    "* Instructions have been included for each segment. You do not have to follow them exactly, but they are included to help you think through the steps."
   ]
  },
  {
   "cell_type": "markdown",
   "metadata": {},
   "source": [
    "# Observations"
   ]
  },
  {
   "cell_type": "markdown",
   "metadata": {},
   "source": [
    "1. Highest temperature is found at 0 latitude and as you move away from the equator, temperature decreases.\n",
    "2. Southern Hemisphern climates tend to be slightly milder than in the Northen Hemisphere. \n",
    "3. Latitude does not have a strong correlation on wind speed. \n",
    "4. No relationship between Cloudiness and Latitude."
   ]
  },
  {
   "cell_type": "code",
   "execution_count": 1,
   "metadata": {
    "scrolled": true
   },
   "outputs": [],
   "source": [
    "# Dependencies and Setup\n",
    "import matplotlib.pyplot as plt\n",
    "import pandas as pd\n",
    "import numpy as np\n",
    "import requests\n",
    "import time\n",
    "from scipy.stats import linregress\n",
    "import json\n",
    "import random\n",
    "import scipy.stats as st\n",
    "\n",
    "# Import API key\n",
    "from api_keys import weather_api_key\n",
    "\n",
    "# Incorporated citipy to determine city based on latitude and longitude\n",
    "# 'pip install citipy' in gitbash\n",
    "from citipy import citipy\n",
    "\n",
    "# Output File (CSV)\n",
    "output_data_file = \"output_data/cities.csv\"\n",
    "\n",
    "# Range of latitudes and longitudes\n",
    "lat_range = (-90, 90)\n",
    "lng_range = (-180, 180)"
   ]
  },
  {
   "cell_type": "markdown",
   "metadata": {},
   "source": [
    "## Generate Cities List"
   ]
  },
  {
   "cell_type": "code",
   "execution_count": 2,
   "metadata": {},
   "outputs": [
    {
     "data": {
      "text/plain": [
       "605"
      ]
     },
     "execution_count": 2,
     "metadata": {},
     "output_type": "execute_result"
    }
   ],
   "source": [
    "# List for holding lat_lngs and cities\n",
    "lat_lngs = []\n",
    "cities = []\n",
    "\n",
    "# Create a set of random lat and lng combinations\n",
    "lats = np.random.uniform(lat_range[0], lat_range[1], size=1500)\n",
    "lngs = np.random.uniform(lng_range[0], lng_range[1], size=1500)\n",
    "lat_lngs = zip(lats, lngs)\n",
    "\n",
    "# Identify nearest city for each lat, lng combination\n",
    "for lat_lng in lat_lngs:\n",
    "    city = citipy.nearest_city(lat_lng[0], lat_lng[1]).city_name\n",
    "    \n",
    "    # If the city is unique, then add it to a our cities list\n",
    "    if city not in cities:\n",
    "        cities.append(city)\n",
    "\n",
    "# Print the city count to confirm sufficient count\n",
    "len(cities)"
   ]
  },
  {
   "cell_type": "markdown",
   "metadata": {},
   "source": [
    "### Perform API Calls\n",
    "* Perform a weather check on each city using a series of successive API calls.\n",
    "* Include a print log of each city as it'sbeing processed (with the city number and city name).\n"
   ]
  },
  {
   "cell_type": "code",
   "execution_count": 3,
   "metadata": {},
   "outputs": [
    {
     "name": "stdout",
     "output_type": "stream",
     "text": [
      "Beginning Data Retrieval \n",
      "-----------------------------\n",
      "Processing Record 1 of Set 1: geraldton\n",
      "Processing Record 2 of Set 1: hambantota\n",
      "Processing Record 3 of Set 1: havre-saint-pierre\n",
      "City not found. Skipping...\n",
      "Processing Record 4 of Set 1: fairbanks\n",
      "Processing Record 5 of Set 1: rikitea\n",
      "Processing Record 6 of Set 1: kapaa\n",
      "Processing Record 7 of Set 1: busselton\n",
      "Processing Record 8 of Set 1: butaritari\n",
      "Processing Record 9 of Set 1: ostrovnoy\n",
      "Processing Record 10 of Set 1: victoria\n",
      "Processing Record 11 of Set 1: punta arenas\n",
      "Processing Record 12 of Set 1: tokur\n",
      "Processing Record 13 of Set 1: port hardy\n",
      "Processing Record 14 of Set 1: tonj\n",
      "Processing Record 15 of Set 1: bredasdorp\n",
      "Processing Record 16 of Set 1: laguna\n",
      "Processing Record 17 of Set 1: puerto padre\n",
      "Processing Record 18 of Set 1: ribeira grande\n",
      "Processing Record 19 of Set 1: chuy\n",
      "City not found. Skipping...\n",
      "Processing Record 20 of Set 1: veraval\n",
      "Processing Record 21 of Set 1: siderno\n",
      "Processing Record 22 of Set 1: thompson\n",
      "Processing Record 23 of Set 1: kandava\n",
      "Processing Record 24 of Set 1: hobart\n",
      "Processing Record 25 of Set 1: miri\n",
      "Processing Record 26 of Set 1: cabo san lucas\n",
      "Processing Record 27 of Set 1: port alfred\n",
      "Processing Record 28 of Set 1: yokadouma\n",
      "Processing Record 29 of Set 1: albany\n",
      "Processing Record 30 of Set 1: biltine\n",
      "Processing Record 31 of Set 1: hoopstad\n",
      "Processing Record 32 of Set 1: lebu\n",
      "Processing Record 33 of Set 1: tongchuan\n",
      "Processing Record 34 of Set 1: qeshm\n",
      "Processing Record 35 of Set 1: ushuaia\n",
      "Processing Record 36 of Set 1: jalu\n",
      "Processing Record 37 of Set 1: vaini\n",
      "Processing Record 38 of Set 1: mataura\n",
      "Processing Record 39 of Set 1: puerto ayora\n",
      "City not found. Skipping...\n",
      "Processing Record 40 of Set 1: kavieng\n",
      "Processing Record 41 of Set 1: qaanaaq\n",
      "Processing Record 42 of Set 1: poltava\n",
      "Processing Record 43 of Set 1: senneterre\n",
      "Processing Record 44 of Set 1: new norfolk\n",
      "Processing Record 45 of Set 1: longyearbyen\n",
      "Processing Record 46 of Set 1: cherskiy\n",
      "Processing Record 47 of Set 1: quang ngai\n",
      "Processing Record 48 of Set 1: vestmannaeyjar\n",
      "Processing Record 49 of Set 1: hithadhoo\n",
      "Processing Record 50 of Set 1: torbay\n",
      "Processing Record 0 of Set 2: mahebourg\n",
      "Processing Record 1 of Set 2: barrow\n",
      "Processing Record 2 of Set 2: klaksvik\n",
      "Processing Record 3 of Set 2: ponta do sol\n",
      "Processing Record 4 of Set 2: mount isa\n",
      "Processing Record 5 of Set 2: cuanala\n",
      "City not found. Skipping...\n",
      "Processing Record 6 of Set 2: oum hadjer\n",
      "Processing Record 7 of Set 2: cairns\n",
      "Processing Record 8 of Set 2: tuktoyaktuk\n",
      "Processing Record 9 of Set 2: benicarlo\n",
      "Processing Record 10 of Set 2: antofagasta\n",
      "Processing Record 11 of Set 2: omsukchan\n",
      "City not found. Skipping...\n",
      "Processing Record 12 of Set 2: iqaluit\n",
      "Processing Record 13 of Set 2: upernavik\n",
      "City not found. Skipping...\n",
      "Processing Record 14 of Set 2: kaseda\n",
      "Processing Record 15 of Set 2: yellowknife\n",
      "Processing Record 16 of Set 2: inirida\n",
      "Processing Record 17 of Set 2: lac du bonnet\n",
      "Processing Record 18 of Set 2: ivanteyevka\n",
      "Processing Record 19 of Set 2: dingle\n",
      "Processing Record 20 of Set 2: pemangkat\n",
      "Processing Record 21 of Set 2: toora-khem\n",
      "Processing Record 22 of Set 2: cape town\n",
      "Processing Record 23 of Set 2: udachnyy\n",
      "Processing Record 24 of Set 2: haapiti\n",
      "Processing Record 25 of Set 2: aswan\n",
      "Processing Record 26 of Set 2: bubaque\n",
      "Processing Record 27 of Set 2: amargosa\n",
      "Processing Record 28 of Set 2: djibo\n",
      "Processing Record 29 of Set 2: along\n",
      "Processing Record 30 of Set 2: abadiania\n",
      "Processing Record 31 of Set 2: arraial do cabo\n",
      "Processing Record 32 of Set 2: vardo\n",
      "Processing Record 33 of Set 2: sitka\n",
      "Processing Record 34 of Set 2: clyde river\n",
      "Processing Record 35 of Set 2: voka\n",
      "City not found. Skipping...\n",
      "Processing Record 36 of Set 2: faanui\n",
      "Processing Record 37 of Set 2: devils lake\n",
      "Processing Record 38 of Set 2: ancud\n",
      "Processing Record 39 of Set 2: tecoanapa\n",
      "Processing Record 40 of Set 2: leningradskiy\n",
      "Processing Record 41 of Set 2: terrace bay\n",
      "Processing Record 42 of Set 2: khatanga\n",
      "City not found. Skipping...\n",
      "Processing Record 43 of Set 2: dikson\n",
      "Processing Record 44 of Set 2: atuona\n",
      "Processing Record 45 of Set 2: flinders\n",
      "Processing Record 46 of Set 2: hermanus\n",
      "Processing Record 47 of Set 2: henties bay\n",
      "Processing Record 48 of Set 2: bambous virieux\n",
      "Processing Record 49 of Set 2: kaniama\n",
      "Processing Record 50 of Set 2: kitale\n",
      "Processing Record 0 of Set 3: castro\n",
      "Processing Record 1 of Set 3: wittmund\n",
      "Processing Record 2 of Set 3: necochea\n",
      "Processing Record 3 of Set 3: jamestown\n",
      "Processing Record 4 of Set 3: akyab\n",
      "Processing Record 5 of Set 3: tyret pervaya\n",
      "Processing Record 6 of Set 3: pevek\n",
      "Processing Record 7 of Set 3: taoudenni\n",
      "Processing Record 8 of Set 3: kodiak\n",
      "Processing Record 9 of Set 3: khangarh\n",
      "Processing Record 10 of Set 3: kathu\n",
      "City not found. Skipping...\n",
      "Processing Record 11 of Set 3: beira\n",
      "Processing Record 12 of Set 3: ouesso\n",
      "Processing Record 13 of Set 3: adrar\n",
      "Processing Record 14 of Set 3: ellsworth\n",
      "Processing Record 15 of Set 3: bluff\n",
      "Processing Record 16 of Set 3: opuwo\n",
      "Processing Record 17 of Set 3: lardos\n",
      "Processing Record 18 of Set 3: marawi\n",
      "Processing Record 19 of Set 3: coquimbo\n",
      "Processing Record 20 of Set 3: caravelas\n",
      "Processing Record 21 of Set 3: deoria\n",
      "Processing Record 22 of Set 3: tezu\n",
      "City not found. Skipping...\n",
      "Processing Record 23 of Set 3: sioux lookout\n",
      "Processing Record 24 of Set 3: camapua\n",
      "Processing Record 25 of Set 3: vung tau\n",
      "Processing Record 26 of Set 3: bainbridge\n",
      "Processing Record 27 of Set 3: taltal\n",
      "Processing Record 28 of Set 3: santa cruz\n",
      "Processing Record 29 of Set 3: broome\n",
      "City not found. Skipping...\n",
      "Processing Record 30 of Set 3: avarua\n",
      "Processing Record 31 of Set 3: calabar\n",
      "Processing Record 32 of Set 3: valparaiso\n",
      "Processing Record 33 of Set 3: kaitangata\n",
      "Processing Record 34 of Set 3: luderitz\n",
      "Processing Record 35 of Set 3: namatanai\n",
      "Processing Record 36 of Set 3: kahului\n",
      "Processing Record 37 of Set 3: yumen\n",
      "Processing Record 38 of Set 3: lorengau\n",
      "Processing Record 39 of Set 3: bathsheba\n",
      "Processing Record 40 of Set 3: sur\n",
      "City not found. Skipping...\n",
      "Processing Record 41 of Set 3: isangel\n",
      "Processing Record 42 of Set 3: vanimo\n",
      "Processing Record 43 of Set 3: bandar-e lengeh\n",
      "Processing Record 44 of Set 3: pavlogradka\n",
      "Processing Record 45 of Set 3: korla\n",
      "Processing Record 46 of Set 3: codrington\n",
      "Processing Record 47 of Set 3: mgandu\n",
      "Processing Record 48 of Set 3: cabedelo\n",
      "City not found. Skipping...\n",
      "Processing Record 49 of Set 3: jaque\n",
      "Processing Record 50 of Set 3: tahta\n",
      "Processing Record 0 of Set 4: brigantine\n",
      "Processing Record 1 of Set 4: broken hill\n",
      "Processing Record 2 of Set 4: ambon\n",
      "Processing Record 3 of Set 4: hilo\n",
      "Processing Record 4 of Set 4: kamensk-uralskiy\n",
      "Processing Record 5 of Set 4: bitung\n",
      "Processing Record 6 of Set 4: hofn\n",
      "Processing Record 7 of Set 4: airai\n",
      "Processing Record 8 of Set 4: ilulissat\n",
      "Processing Record 9 of Set 4: shumyachi\n",
      "City not found. Skipping...\n",
      "Processing Record 10 of Set 4: polunochnoye\n",
      "Processing Record 11 of Set 4: toyota\n",
      "Processing Record 12 of Set 4: brinkovskaya\n",
      "Processing Record 13 of Set 4: sabang\n",
      "Processing Record 14 of Set 4: port lincoln\n",
      "Processing Record 15 of Set 4: ko samui\n",
      "Processing Record 16 of Set 4: kutiyana\n",
      "City not found. Skipping...\n",
      "Processing Record 17 of Set 4: banda aceh\n",
      "Processing Record 18 of Set 4: conde\n",
      "Processing Record 19 of Set 4: east london\n",
      "Processing Record 20 of Set 4: kruisfontein\n",
      "Processing Record 21 of Set 4: singkang\n",
      "Processing Record 22 of Set 4: livezile\n",
      "Processing Record 23 of Set 4: savinka\n",
      "Processing Record 24 of Set 4: cozumel\n",
      "City not found. Skipping...\n",
      "Processing Record 25 of Set 4: peniche\n",
      "Processing Record 26 of Set 4: matagami\n",
      "Processing Record 27 of Set 4: aklavik\n",
      "Processing Record 28 of Set 4: kalmunai\n",
      "City not found. Skipping...\n",
      "Processing Record 29 of Set 4: inhapim\n",
      "Processing Record 30 of Set 4: itoman\n",
      "Processing Record 31 of Set 4: pacific grove\n",
      "Processing Record 32 of Set 4: lompoc\n",
      "Processing Record 33 of Set 4: anadyr\n",
      "Processing Record 34 of Set 4: flin flon\n",
      "Processing Record 35 of Set 4: suntar\n",
      "Processing Record 36 of Set 4: saint-philippe\n",
      "Processing Record 37 of Set 4: sao joao da barra\n",
      "Processing Record 38 of Set 4: georgetown\n",
      "Processing Record 39 of Set 4: inhambane\n",
      "Processing Record 40 of Set 4: grand island\n",
      "Processing Record 41 of Set 4: sorong\n",
      "City not found. Skipping...\n",
      "Processing Record 42 of Set 4: dunedin\n",
      "Processing Record 43 of Set 4: birao\n"
     ]
    },
    {
     "name": "stdout",
     "output_type": "stream",
     "text": [
      "Processing Record 44 of Set 4: marzuq\n",
      "Processing Record 45 of Set 4: vysokogornyy\n",
      "Processing Record 46 of Set 4: omboue\n",
      "Processing Record 47 of Set 4: port elizabeth\n",
      "Processing Record 48 of Set 4: mascote\n",
      "Processing Record 49 of Set 4: muli\n",
      "Processing Record 50 of Set 4: vestmanna\n",
      "Processing Record 0 of Set 5: ibipeba\n",
      "Processing Record 1 of Set 5: lagoa\n",
      "Processing Record 2 of Set 5: troitsko-pechorsk\n",
      "Processing Record 3 of Set 5: tasiilaq\n",
      "Processing Record 4 of Set 5: nanortalik\n",
      "Processing Record 5 of Set 5: savannah bight\n",
      "Processing Record 6 of Set 5: porto torres\n",
      "Processing Record 7 of Set 5: constitucion\n",
      "Processing Record 8 of Set 5: sakakah\n",
      "Processing Record 9 of Set 5: carnarvon\n",
      "Processing Record 10 of Set 5: bilibino\n",
      "Processing Record 11 of Set 5: talnakh\n",
      "Processing Record 12 of Set 5: agirish\n",
      "City not found. Skipping...\n",
      "City not found. Skipping...\n",
      "Processing Record 13 of Set 5: norman wells\n",
      "Processing Record 14 of Set 5: asgabat\n",
      "City not found. Skipping...\n",
      "Processing Record 15 of Set 5: verkhnyaya inta\n",
      "Processing Record 16 of Set 5: petropavlovsk-kamchatskiy\n",
      "Processing Record 17 of Set 5: osoyoos\n",
      "Processing Record 18 of Set 5: acari\n",
      "Processing Record 19 of Set 5: mecca\n",
      "Processing Record 20 of Set 5: rawson\n",
      "Processing Record 21 of Set 5: los llanos de aridane\n",
      "Processing Record 22 of Set 5: bonavista\n",
      "Processing Record 23 of Set 5: harper\n",
      "City not found. Skipping...\n",
      "Processing Record 24 of Set 5: beroroha\n",
      "Processing Record 25 of Set 5: port augusta\n",
      "City not found. Skipping...\n",
      "Processing Record 26 of Set 5: vikramasingapuram\n",
      "Processing Record 27 of Set 5: albanel\n",
      "Processing Record 28 of Set 5: novikovo\n",
      "Processing Record 29 of Set 5: lasa\n",
      "Processing Record 30 of Set 5: dickinson\n",
      "Processing Record 31 of Set 5: husavik\n",
      "Processing Record 32 of Set 5: conceicao do araguaia\n",
      "Processing Record 33 of Set 5: manado\n",
      "Processing Record 34 of Set 5: abu samrah\n",
      "Processing Record 35 of Set 5: priboj\n",
      "Processing Record 36 of Set 5: fortuna\n",
      "City not found. Skipping...\n",
      "Processing Record 37 of Set 5: pokrovka\n",
      "Processing Record 38 of Set 5: mahibadhoo\n",
      "Processing Record 39 of Set 5: san martin\n",
      "Processing Record 40 of Set 5: southampton\n",
      "Processing Record 41 of Set 5: makat\n",
      "Processing Record 42 of Set 5: tuatapere\n",
      "Processing Record 43 of Set 5: bethel\n",
      "Processing Record 44 of Set 5: tautira\n",
      "City not found. Skipping...\n",
      "Processing Record 45 of Set 5: chokurdakh\n",
      "Processing Record 46 of Set 5: piet retief\n",
      "Processing Record 47 of Set 5: emerald\n",
      "Processing Record 48 of Set 5: mar del plata\n",
      "Processing Record 49 of Set 5: half moon bay\n",
      "Processing Record 50 of Set 5: pisco\n",
      "Processing Record 0 of Set 6: kihei\n",
      "Processing Record 1 of Set 6: bac giang\n",
      "Processing Record 2 of Set 6: ankang\n",
      "Processing Record 3 of Set 6: nizhniy kuranakh\n",
      "City not found. Skipping...\n",
      "Processing Record 4 of Set 6: amapa\n",
      "Processing Record 5 of Set 6: hasaki\n",
      "Processing Record 6 of Set 6: galbshtadt\n",
      "Processing Record 7 of Set 6: honiara\n",
      "Processing Record 8 of Set 6: sidi ali\n",
      "Processing Record 9 of Set 6: ruza\n",
      "Processing Record 10 of Set 6: gwadar\n",
      "Processing Record 11 of Set 6: srednekolymsk\n",
      "Processing Record 12 of Set 6: la orilla\n",
      "Processing Record 13 of Set 6: abashiri\n",
      "City not found. Skipping...\n",
      "Processing Record 14 of Set 6: emba\n",
      "Processing Record 15 of Set 6: beringovskiy\n",
      "Processing Record 16 of Set 6: arroyo\n",
      "Processing Record 17 of Set 6: kaka\n",
      "Processing Record 18 of Set 6: ornskoldsvik\n",
      "City not found. Skipping...\n",
      "Processing Record 19 of Set 6: quatre cocos\n",
      "Processing Record 20 of Set 6: buala\n",
      "Processing Record 21 of Set 6: tomatlan\n",
      "Processing Record 22 of Set 6: bahia de caraquez\n",
      "Processing Record 23 of Set 6: touros\n",
      "Processing Record 24 of Set 6: ankazoabo\n",
      "Processing Record 25 of Set 6: bourail\n",
      "Processing Record 26 of Set 6: pangkalanbuun\n",
      "Processing Record 27 of Set 6: fort nelson\n",
      "Processing Record 28 of Set 6: shingu\n",
      "Processing Record 29 of Set 6: malindi\n",
      "Processing Record 30 of Set 6: kishapu\n",
      "Processing Record 31 of Set 6: sao filipe\n",
      "Processing Record 32 of Set 6: cidreira\n",
      "Processing Record 33 of Set 6: iquitos\n",
      "Processing Record 34 of Set 6: guayaquil\n",
      "Processing Record 35 of Set 6: saint-pierre\n",
      "Processing Record 36 of Set 6: baraboo\n",
      "Processing Record 37 of Set 6: ayan\n",
      "Processing Record 38 of Set 6: griffith\n",
      "Processing Record 39 of Set 6: fort wayne\n",
      "Processing Record 40 of Set 6: eureka\n",
      "Processing Record 41 of Set 6: saint george\n",
      "Processing Record 42 of Set 6: pedasi\n",
      "Processing Record 43 of Set 6: saskylakh\n",
      "Processing Record 44 of Set 6: kologriv\n",
      "Processing Record 45 of Set 6: mackay\n",
      "Processing Record 46 of Set 6: praia da vitoria\n",
      "Processing Record 47 of Set 6: namibe\n",
      "Processing Record 48 of Set 6: abha\n",
      "Processing Record 49 of Set 6: saldanha\n",
      "Processing Record 50 of Set 6: nouadhibou\n",
      "Processing Record 0 of Set 7: colares\n",
      "Processing Record 1 of Set 7: freeport\n",
      "Processing Record 2 of Set 7: tanete\n",
      "Processing Record 3 of Set 7: shawinigan\n",
      "Processing Record 4 of Set 7: isabela\n",
      "Processing Record 5 of Set 7: palu\n",
      "Processing Record 6 of Set 7: birecik\n",
      "Processing Record 7 of Set 7: san matias\n",
      "Processing Record 8 of Set 7: cerrito\n",
      "Processing Record 9 of Set 7: bengkulu\n",
      "Processing Record 10 of Set 7: sao jose da coroa grande\n",
      "Processing Record 11 of Set 7: singaparna\n",
      "Processing Record 12 of Set 7: moree\n",
      "Processing Record 13 of Set 7: qaqortoq\n",
      "Processing Record 14 of Set 7: aspindza\n",
      "Processing Record 15 of Set 7: comodoro rivadavia\n",
      "Processing Record 16 of Set 7: sola\n",
      "Processing Record 17 of Set 7: haaksbergen\n",
      "Processing Record 18 of Set 7: dhidhdhoo\n",
      "Processing Record 19 of Set 7: luangwa\n",
      "Processing Record 20 of Set 7: misratah\n",
      "Processing Record 21 of Set 7: burlatskoye\n",
      "Processing Record 22 of Set 7: narsaq\n",
      "Processing Record 23 of Set 7: xuddur\n",
      "Processing Record 24 of Set 7: bandarbeyla\n",
      "Processing Record 25 of Set 7: awjilah\n",
      "Processing Record 26 of Set 7: gamarra\n",
      "Processing Record 27 of Set 7: tateyama\n",
      "Processing Record 28 of Set 7: ciudad bolivar\n",
      "Processing Record 29 of Set 7: warud\n",
      "Processing Record 30 of Set 7: sawtell\n",
      "City not found. Skipping...\n",
      "City not found. Skipping...\n",
      "Processing Record 31 of Set 7: tutoia\n",
      "Processing Record 32 of Set 7: jesup\n",
      "Processing Record 33 of Set 7: fukue\n",
      "Processing Record 34 of Set 7: marsa matruh\n",
      "City not found. Skipping...\n",
      "Processing Record 35 of Set 7: moville\n",
      "Processing Record 36 of Set 7: provideniya\n",
      "Processing Record 37 of Set 7: roald\n",
      "Processing Record 38 of Set 7: mehamn\n",
      "Processing Record 39 of Set 7: benjamin aceval\n",
      "Processing Record 40 of Set 7: san rafael\n",
      "Processing Record 41 of Set 7: souillac\n",
      "Processing Record 42 of Set 7: vao\n",
      "Processing Record 43 of Set 7: aljezur\n",
      "Processing Record 44 of Set 7: zhanaozen\n",
      "Processing Record 45 of Set 7: shumskiy\n",
      "Processing Record 46 of Set 7: solnechnyy\n",
      "Processing Record 47 of Set 7: port hedland\n",
      "Processing Record 48 of Set 7: amarpatan\n",
      "Processing Record 49 of Set 7: jeremie\n",
      "Processing Record 50 of Set 7: yar-sale\n",
      "Processing Record 0 of Set 8: ballina\n",
      "Processing Record 1 of Set 8: cooma\n",
      "Processing Record 2 of Set 8: havelock\n",
      "Processing Record 3 of Set 8: nurlat\n",
      "Processing Record 4 of Set 8: chicama\n",
      "Processing Record 5 of Set 8: balgazyn\n",
      "Processing Record 6 of Set 8: severo-kurilsk\n",
      "Processing Record 7 of Set 8: kurchum\n",
      "Processing Record 8 of Set 8: maniitsoq\n",
      "Processing Record 9 of Set 8: sabha\n",
      "Processing Record 10 of Set 8: puerto maldonado\n",
      "Processing Record 11 of Set 8: lavrentiya\n",
      "Processing Record 12 of Set 8: bagamoyo\n",
      "Processing Record 13 of Set 8: tiksi\n",
      "Processing Record 14 of Set 8: angoche\n",
      "Processing Record 15 of Set 8: manta\n",
      "Processing Record 16 of Set 8: joao camara\n",
      "Processing Record 17 of Set 8: itarema\n",
      "Processing Record 18 of Set 8: boralday\n",
      "Processing Record 19 of Set 8: tual\n",
      "Processing Record 20 of Set 8: chiredzi\n",
      "Processing Record 21 of Set 8: dolzhanskaya\n",
      "Processing Record 22 of Set 8: nyuksenitsa\n",
      "Processing Record 23 of Set 8: acarau\n",
      "Processing Record 24 of Set 8: mount gambier\n",
      "City not found. Skipping...\n",
      "Processing Record 25 of Set 8: tahe\n",
      "Processing Record 26 of Set 8: mao\n",
      "Processing Record 27 of Set 8: bend\n",
      "Processing Record 28 of Set 8: olafsvik\n",
      "City not found. Skipping...\n",
      "Processing Record 29 of Set 8: ketchikan\n",
      "Processing Record 30 of Set 8: nikolskoye\n",
      "Processing Record 31 of Set 8: pitea\n",
      "Processing Record 32 of Set 8: maningrida\n"
     ]
    },
    {
     "name": "stdout",
     "output_type": "stream",
     "text": [
      "Processing Record 33 of Set 8: leh\n",
      "Processing Record 34 of Set 8: miles city\n",
      "Processing Record 35 of Set 8: dire dawa\n",
      "Processing Record 36 of Set 8: wawa\n",
      "City not found. Skipping...\n",
      "Processing Record 37 of Set 8: prijepolje\n",
      "Processing Record 38 of Set 8: ugoofaaru\n",
      "Processing Record 39 of Set 8: newport\n",
      "Processing Record 40 of Set 8: jatai\n",
      "Processing Record 41 of Set 8: ekhabi\n",
      "Processing Record 42 of Set 8: uzice\n",
      "Processing Record 43 of Set 8: saint anthony\n",
      "Processing Record 44 of Set 8: muroto\n",
      "Processing Record 45 of Set 8: lincoln\n",
      "City not found. Skipping...\n",
      "Processing Record 46 of Set 8: gat\n",
      "Processing Record 47 of Set 8: noyabrsk\n",
      "Processing Record 48 of Set 8: beloha\n",
      "Processing Record 49 of Set 8: te anau\n",
      "Processing Record 50 of Set 8: vostok\n",
      "Processing Record 0 of Set 9: sobolevo\n",
      "Processing Record 1 of Set 9: salinopolis\n",
      "Processing Record 2 of Set 9: tambacounda\n",
      "Processing Record 3 of Set 9: katherine\n",
      "Processing Record 4 of Set 9: sarangani\n",
      "City not found. Skipping...\n",
      "Processing Record 5 of Set 9: bozhou\n",
      "City not found. Skipping...\n",
      "Processing Record 6 of Set 9: landeck\n",
      "Processing Record 7 of Set 9: vrangel\n",
      "Processing Record 8 of Set 9: constantine\n",
      "Processing Record 9 of Set 9: gamba\n",
      "Processing Record 10 of Set 9: homer\n",
      "City not found. Skipping...\n",
      "Processing Record 11 of Set 9: evensk\n",
      "Processing Record 12 of Set 9: arraias\n",
      "Processing Record 13 of Set 9: marsh harbour\n",
      "Processing Record 14 of Set 9: zapolyarnyy\n",
      "Processing Record 15 of Set 9: sharjah\n",
      "City not found. Skipping...\n",
      "Processing Record 16 of Set 9: grindavik\n",
      "Processing Record 17 of Set 9: san patricio\n",
      "Processing Record 18 of Set 9: alta floresta\n",
      "Processing Record 19 of Set 9: axim\n",
      "Processing Record 20 of Set 9: morong\n",
      "Processing Record 21 of Set 9: toguchin\n",
      "City not found. Skipping...\n",
      "Processing Record 22 of Set 9: mvomero\n",
      "Processing Record 23 of Set 9: wuwei\n",
      "Processing Record 24 of Set 9: sheridan\n",
      "Processing Record 25 of Set 9: caetite\n",
      "Processing Record 26 of Set 9: ayorou\n",
      "Processing Record 27 of Set 9: katsuura\n",
      "Processing Record 28 of Set 9: huarmey\n",
      "Processing Record 29 of Set 9: kushima\n",
      "Processing Record 30 of Set 9: kabare\n",
      "Processing Record 31 of Set 9: port hueneme\n",
      "Processing Record 32 of Set 9: poronaysk\n",
      "Processing Record 33 of Set 9: guerrero negro\n",
      "Processing Record 34 of Set 9: port shepstone\n",
      "Processing Record 35 of Set 9: kibuye\n",
      "Processing Record 36 of Set 9: khuzdar\n",
      "Processing Record 37 of Set 9: san cristobal\n",
      "Processing Record 38 of Set 9: podgorica\n",
      "Processing Record 39 of Set 9: chapais\n",
      "Processing Record 40 of Set 9: arman\n",
      "Processing Record 41 of Set 9: caudry\n",
      "Processing Record 42 of Set 9: chisec\n",
      "Processing Record 43 of Set 9: miyako\n",
      "Processing Record 44 of Set 9: pindiga\n",
      "Processing Record 45 of Set 9: zhaotong\n",
      "Processing Record 46 of Set 9: makakilo city\n",
      "Processing Record 47 of Set 9: payo\n",
      "Processing Record 48 of Set 9: richards bay\n",
      "City not found. Skipping...\n",
      "Processing Record 49 of Set 9: krasnoselkup\n",
      "City not found. Skipping...\n",
      "Processing Record 50 of Set 9: soe\n",
      "City not found. Skipping...\n",
      "Processing Record 0 of Set 10: siuri\n",
      "Processing Record 1 of Set 10: merritt\n",
      "Processing Record 2 of Set 10: mogadishu\n",
      "Processing Record 3 of Set 10: dudinka\n",
      "Processing Record 4 of Set 10: obzor\n",
      "City not found. Skipping...\n",
      "Processing Record 5 of Set 10: chulumani\n",
      "Processing Record 6 of Set 10: shimoda\n",
      "Processing Record 7 of Set 10: kinablangan\n",
      "Processing Record 8 of Set 10: kjollefjord\n",
      "Processing Record 9 of Set 10: leeton\n",
      "Processing Record 10 of Set 10: emporia\n",
      "Processing Record 11 of Set 10: great yarmouth\n",
      "Processing Record 12 of Set 10: morondava\n",
      "Processing Record 13 of Set 10: parintins\n",
      "Processing Record 14 of Set 10: bolbec\n",
      "Processing Record 15 of Set 10: nagato\n",
      "Processing Record 16 of Set 10: quesnel\n",
      "Processing Record 17 of Set 10: christchurch\n",
      "Processing Record 18 of Set 10: faya\n",
      "Processing Record 19 of Set 10: promyshlennovskiy\n",
      "Processing Record 20 of Set 10: margate\n",
      "Processing Record 21 of Set 10: canalete\n",
      "Processing Record 22 of Set 10: fare\n",
      "Processing Record 23 of Set 10: tucuman\n",
      "Processing Record 24 of Set 10: port pirie\n",
      "Processing Record 25 of Set 10: kuandian\n",
      "Processing Record 26 of Set 10: carbondale\n",
      "Processing Record 27 of Set 10: raudeberg\n",
      "Processing Record 28 of Set 10: vila do maio\n",
      "Processing Record 29 of Set 10: dryden\n",
      "Processing Record 30 of Set 10: san andres\n",
      "Processing Record 31 of Set 10: churapcha\n",
      "Processing Record 32 of Set 10: bolivar\n",
      "Processing Record 33 of Set 10: cururupu\n",
      "Processing Record 34 of Set 10: nelson bay\n",
      "Processing Record 35 of Set 10: el alto\n",
      "Processing Record 36 of Set 10: iskateley\n",
      "Processing Record 37 of Set 10: ndele\n",
      "Processing Record 38 of Set 10: suwalki\n",
      "Processing Record 39 of Set 10: karratha\n",
      "Processing Record 40 of Set 10: tromso\n",
      "Processing Record 41 of Set 10: nikolayevsk-na-amure\n",
      "Processing Record 42 of Set 10: bennington\n",
      "Processing Record 43 of Set 10: merke\n",
      "City not found. Skipping...\n",
      "Processing Record 44 of Set 10: santa cruz de la palma\n",
      "Processing Record 45 of Set 10: port moresby\n",
      "Processing Record 46 of Set 10: elizabeth city\n",
      "Processing Record 47 of Set 10: venado tuerto\n",
      "Processing Record 48 of Set 10: puerto baquerizo moreno\n",
      "Processing Record 49 of Set 10: denpasar\n",
      "Processing Record 50 of Set 10: westport\n",
      "Processing Record 0 of Set 11: camopi\n",
      "Processing Record 1 of Set 11: conceicao da barra\n",
      "Processing Record 2 of Set 11: grootfontein\n",
      "Processing Record 3 of Set 11: santa ines\n",
      "City not found. Skipping...\n",
      "Processing Record 4 of Set 11: somerset\n",
      "Processing Record 5 of Set 11: shwebo\n",
      "Processing Record 6 of Set 11: nanga eboko\n",
      "Processing Record 7 of Set 11: bukid\n",
      "City not found. Skipping...\n",
      "Processing Record 8 of Set 11: atbasar\n",
      "Processing Record 9 of Set 11: nagpur\n",
      "City not found. Skipping...\n",
      "Processing Record 10 of Set 11: khilok\n",
      "Processing Record 11 of Set 11: coihaique\n",
      "Processing Record 12 of Set 11: cockburn town\n",
      "Processing Record 13 of Set 11: ocho rios\n",
      "Processing Record 14 of Set 11: manokwari\n",
      "Processing Record 15 of Set 11: panguna\n",
      "Processing Record 16 of Set 11: saint-gilles\n",
      "Processing Record 17 of Set 11: velizh\n",
      "Processing Record 18 of Set 11: gambela\n",
      "Processing Record 19 of Set 11: dalvik\n",
      "Processing Record 20 of Set 11: khuzhir\n",
      "City not found. Skipping...\n",
      "Processing Record 21 of Set 11: santa isabel do rio negro\n",
      "Processing Record 22 of Set 11: rocha\n",
      "Processing Record 23 of Set 11: sale\n",
      "Processing Record 24 of Set 11: boldumsaz\n",
      "Processing Record 25 of Set 11: tabuk\n",
      "Processing Record 26 of Set 11: manutuke\n",
      "Processing Record 27 of Set 11: muravlenko\n",
      "Processing Record 28 of Set 11: diffa\n",
      "Processing Record 29 of Set 11: forbes\n",
      "Processing Record 30 of Set 11: lashio\n",
      "Processing Record 31 of Set 11: asau\n",
      "Processing Record 32 of Set 11: sambalpur\n",
      "Processing Record 33 of Set 11: antunez\n",
      "Processing Record 34 of Set 11: tazovskiy\n",
      "City not found. Skipping...\n",
      "Processing Record 35 of Set 11: nador\n",
      "Processing Record 36 of Set 11: gimli\n",
      "Processing Record 37 of Set 11: togur\n",
      "Processing Record 38 of Set 11: hokitika\n",
      "Processing Record 39 of Set 11: balvi\n",
      "Processing Record 40 of Set 11: uaua\n",
      "Processing Record 41 of Set 11: linares\n",
      "Processing Record 42 of Set 11: yaan\n",
      "Processing Record 43 of Set 11: almaznyy\n",
      "Processing Record 44 of Set 11: salalah\n",
      "Processing Record 45 of Set 11: ulagan\n",
      "-----------------------------\n",
      "Data Retrieval Complete\n",
      "-----------------------------\n"
     ]
    }
   ],
   "source": [
    "print(\"Beginning Data Retrieval \")\n",
    "print(\"-----------------------------\")\n",
    "\n",
    "# Save config information.\n",
    "url = \"http://api.openweathermap.org/data/2.5/weather?\"\n",
    "units = \"imperial\"\n",
    "\n",
    "# Build partial query URL\n",
    "query_url = f\"{url}appid={weather_api_key}&q=\"\n",
    "\n",
    "#print(query_url)\n",
    "\n",
    "# set up lists to hold reponse info\n",
    "lat = []\n",
    "long=[]\n",
    "city=[]\n",
    "max_temp = []\n",
    "humidity=[]\n",
    "cloudiness=[]\n",
    "windspeed=[]\n",
    "date=[]\n",
    "country=[]\n",
    "index=0\n",
    "set_counter=1\n",
    "\n",
    "#looping through cities \n",
    "for x in cities :\n",
    "    try:\n",
    "        response = requests.get(query_url + x + \"&units=\" + units).json()\n",
    "        lat.append(response['coord']['lat'])\n",
    "        long.append(response['coord']['lon'])\n",
    "        max_temp.append(response['main']['temp_max'])\n",
    "        humidity.append(response['main']['humidity'])\n",
    "        cloudiness.append(response['clouds']['all'])\n",
    "        windspeed.append(response['wind']['speed'])\n",
    "        date.append(response['dt'])\n",
    "        country.append(response['sys']['country'])\n",
    "        city.append(x)\n",
    "        #print(x)\n",
    "#sub loop to grab the index and concatating \n",
    "        if index > 49:\n",
    "            index =0\n",
    "            set_counter= set_counter+1\n",
    "        else:\n",
    "            index=index + 1\n",
    "            \n",
    "        print(f\"Processing Record {index} of Set {set_counter}: {x}\")\n",
    "    except(KeyError, IndexError):\n",
    "        print(\"City not found. Skipping...\")\n",
    "print(\"-----------------------------\")\n",
    "print(\"Data Retrieval Complete\")\n",
    "print(\"-----------------------------\")"
   ]
  },
  {
   "cell_type": "markdown",
   "metadata": {},
   "source": [
    "### Convert Raw Data to DataFrame\n",
    "* Export the city data into a .csv.\n",
    "* Display the DataFrame"
   ]
  },
  {
   "cell_type": "code",
   "execution_count": 4,
   "metadata": {},
   "outputs": [],
   "source": [
    "# Create a panda data frame using data retrieved\n",
    "weather_dict = pd.DataFrame({ \n",
    "                \"City\" : city,\n",
    "                \"Lat\" : lat,\n",
    "                \"Lng\": long,\n",
    "                \"Max Temp\" : max_temp,\n",
    "                \"Humidity\" : humidity,\n",
    "                \"Cloudiness\" : cloudiness,\n",
    "                \"Wind Speed\" : windspeed,\n",
    "                \"Country\" : country,\n",
    "                \"Date\" : date,\n",
    "})"
   ]
  },
  {
   "cell_type": "code",
   "execution_count": 5,
   "metadata": {},
   "outputs": [],
   "source": [
    "#Verifying data in df \n",
    "#weather_dict.loc[weather_dict[\"City\"]==\"hasaki\"]"
   ]
  },
  {
   "cell_type": "code",
   "execution_count": 6,
   "metadata": {},
   "outputs": [
    {
     "data": {
      "text/plain": [
       "City          555\n",
       "Lat           555\n",
       "Lng           555\n",
       "Max Temp      555\n",
       "Humidity      555\n",
       "Cloudiness    555\n",
       "Wind Speed    555\n",
       "Country       555\n",
       "Date          555\n",
       "dtype: int64"
      ]
     },
     "execution_count": 6,
     "metadata": {},
     "output_type": "execute_result"
    }
   ],
   "source": [
    "# Count data\n",
    "weather_dict.count()"
   ]
  },
  {
   "cell_type": "code",
   "execution_count": 7,
   "metadata": {
    "scrolled": true
   },
   "outputs": [
    {
     "data": {
      "text/html": [
       "<div>\n",
       "<style scoped>\n",
       "    .dataframe tbody tr th:only-of-type {\n",
       "        vertical-align: middle;\n",
       "    }\n",
       "\n",
       "    .dataframe tbody tr th {\n",
       "        vertical-align: top;\n",
       "    }\n",
       "\n",
       "    .dataframe thead th {\n",
       "        text-align: right;\n",
       "    }\n",
       "</style>\n",
       "<table border=\"1\" class=\"dataframe\">\n",
       "  <thead>\n",
       "    <tr style=\"text-align: right;\">\n",
       "      <th></th>\n",
       "      <th>City</th>\n",
       "      <th>Lat</th>\n",
       "      <th>Lng</th>\n",
       "      <th>Max Temp</th>\n",
       "      <th>Humidity</th>\n",
       "      <th>Cloudiness</th>\n",
       "      <th>Wind Speed</th>\n",
       "      <th>Country</th>\n",
       "      <th>Date</th>\n",
       "    </tr>\n",
       "  </thead>\n",
       "  <tbody>\n",
       "    <tr>\n",
       "      <td>0</td>\n",
       "      <td>geraldton</td>\n",
       "      <td>-28.77</td>\n",
       "      <td>114.60</td>\n",
       "      <td>53.60</td>\n",
       "      <td>76</td>\n",
       "      <td>40</td>\n",
       "      <td>8.05</td>\n",
       "      <td>AU</td>\n",
       "      <td>1591986205</td>\n",
       "    </tr>\n",
       "    <tr>\n",
       "      <td>1</td>\n",
       "      <td>hambantota</td>\n",
       "      <td>6.12</td>\n",
       "      <td>81.12</td>\n",
       "      <td>80.60</td>\n",
       "      <td>100</td>\n",
       "      <td>0</td>\n",
       "      <td>5.82</td>\n",
       "      <td>LK</td>\n",
       "      <td>1591986205</td>\n",
       "    </tr>\n",
       "    <tr>\n",
       "      <td>2</td>\n",
       "      <td>havre-saint-pierre</td>\n",
       "      <td>50.23</td>\n",
       "      <td>-63.60</td>\n",
       "      <td>69.80</td>\n",
       "      <td>46</td>\n",
       "      <td>1</td>\n",
       "      <td>9.17</td>\n",
       "      <td>CA</td>\n",
       "      <td>1591986205</td>\n",
       "    </tr>\n",
       "    <tr>\n",
       "      <td>3</td>\n",
       "      <td>fairbanks</td>\n",
       "      <td>64.84</td>\n",
       "      <td>-147.72</td>\n",
       "      <td>60.80</td>\n",
       "      <td>71</td>\n",
       "      <td>90</td>\n",
       "      <td>1.57</td>\n",
       "      <td>US</td>\n",
       "      <td>1591986033</td>\n",
       "    </tr>\n",
       "    <tr>\n",
       "      <td>4</td>\n",
       "      <td>rikitea</td>\n",
       "      <td>-23.12</td>\n",
       "      <td>-134.97</td>\n",
       "      <td>75.18</td>\n",
       "      <td>80</td>\n",
       "      <td>20</td>\n",
       "      <td>19.64</td>\n",
       "      <td>PF</td>\n",
       "      <td>1591986205</td>\n",
       "    </tr>\n",
       "  </tbody>\n",
       "</table>\n",
       "</div>"
      ],
      "text/plain": [
       "                 City    Lat     Lng  Max Temp  Humidity  Cloudiness  \\\n",
       "0           geraldton -28.77  114.60     53.60        76          40   \n",
       "1          hambantota   6.12   81.12     80.60       100           0   \n",
       "2  havre-saint-pierre  50.23  -63.60     69.80        46           1   \n",
       "3           fairbanks  64.84 -147.72     60.80        71          90   \n",
       "4             rikitea -23.12 -134.97     75.18        80          20   \n",
       "\n",
       "   Wind Speed Country        Date  \n",
       "0        8.05      AU  1591986205  \n",
       "1        5.82      LK  1591986205  \n",
       "2        9.17      CA  1591986205  \n",
       "3        1.57      US  1591986033  \n",
       "4       19.64      PF  1591986205  "
      ]
     },
     "execution_count": 7,
     "metadata": {},
     "output_type": "execute_result"
    }
   ],
   "source": [
    "weather_dict.head()"
   ]
  },
  {
   "cell_type": "code",
   "execution_count": 8,
   "metadata": {},
   "outputs": [],
   "source": [
    "# Export the City_Data into a csv\n",
    "weather_dict.to_csv(\"../output_data/cities.csv\", index = False)"
   ]
  },
  {
   "cell_type": "markdown",
   "metadata": {},
   "source": [
    "## Inspect the data and remove the cities where the humidity > 100%.\n",
    "----\n",
    "Skip this step if there are no cities that have humidity > 100%. "
   ]
  },
  {
   "cell_type": "code",
   "execution_count": 9,
   "metadata": {},
   "outputs": [
    {
     "data": {
      "text/html": [
       "<div>\n",
       "<style scoped>\n",
       "    .dataframe tbody tr th:only-of-type {\n",
       "        vertical-align: middle;\n",
       "    }\n",
       "\n",
       "    .dataframe tbody tr th {\n",
       "        vertical-align: top;\n",
       "    }\n",
       "\n",
       "    .dataframe thead th {\n",
       "        text-align: right;\n",
       "    }\n",
       "</style>\n",
       "<table border=\"1\" class=\"dataframe\">\n",
       "  <thead>\n",
       "    <tr style=\"text-align: right;\">\n",
       "      <th></th>\n",
       "      <th>Lat</th>\n",
       "      <th>Lng</th>\n",
       "      <th>Max Temp</th>\n",
       "      <th>Humidity</th>\n",
       "      <th>Cloudiness</th>\n",
       "      <th>Wind Speed</th>\n",
       "      <th>Date</th>\n",
       "    </tr>\n",
       "  </thead>\n",
       "  <tbody>\n",
       "    <tr>\n",
       "      <td>count</td>\n",
       "      <td>555.000000</td>\n",
       "      <td>555.000000</td>\n",
       "      <td>555.000000</td>\n",
       "      <td>555.000000</td>\n",
       "      <td>555.000000</td>\n",
       "      <td>555.000000</td>\n",
       "      <td>5.550000e+02</td>\n",
       "    </tr>\n",
       "    <tr>\n",
       "      <td>mean</td>\n",
       "      <td>19.534306</td>\n",
       "      <td>19.463964</td>\n",
       "      <td>68.859550</td>\n",
       "      <td>67.659459</td>\n",
       "      <td>49.866667</td>\n",
       "      <td>8.894865</td>\n",
       "      <td>1.591986e+09</td>\n",
       "    </tr>\n",
       "    <tr>\n",
       "      <td>std</td>\n",
       "      <td>33.134362</td>\n",
       "      <td>89.667888</td>\n",
       "      <td>15.711519</td>\n",
       "      <td>20.723059</td>\n",
       "      <td>35.703758</td>\n",
       "      <td>5.583433</td>\n",
       "      <td>5.337594e+01</td>\n",
       "    </tr>\n",
       "    <tr>\n",
       "      <td>min</td>\n",
       "      <td>-54.800000</td>\n",
       "      <td>-175.200000</td>\n",
       "      <td>32.000000</td>\n",
       "      <td>9.000000</td>\n",
       "      <td>0.000000</td>\n",
       "      <td>0.360000</td>\n",
       "      <td>1.591986e+09</td>\n",
       "    </tr>\n",
       "    <tr>\n",
       "      <td>25%</td>\n",
       "      <td>-6.705000</td>\n",
       "      <td>-62.570000</td>\n",
       "      <td>57.200000</td>\n",
       "      <td>54.500000</td>\n",
       "      <td>18.000000</td>\n",
       "      <td>4.700000</td>\n",
       "      <td>1.591986e+09</td>\n",
       "    </tr>\n",
       "    <tr>\n",
       "      <td>50%</td>\n",
       "      <td>21.620000</td>\n",
       "      <td>24.730000</td>\n",
       "      <td>71.600000</td>\n",
       "      <td>72.000000</td>\n",
       "      <td>45.000000</td>\n",
       "      <td>8.050000</td>\n",
       "      <td>1.591986e+09</td>\n",
       "    </tr>\n",
       "    <tr>\n",
       "      <td>75%</td>\n",
       "      <td>48.475000</td>\n",
       "      <td>96.140000</td>\n",
       "      <td>80.645000</td>\n",
       "      <td>83.000000</td>\n",
       "      <td>85.000000</td>\n",
       "      <td>11.875000</td>\n",
       "      <td>1.591986e+09</td>\n",
       "    </tr>\n",
       "    <tr>\n",
       "      <td>max</td>\n",
       "      <td>78.220000</td>\n",
       "      <td>179.320000</td>\n",
       "      <td>107.440000</td>\n",
       "      <td>100.000000</td>\n",
       "      <td>100.000000</td>\n",
       "      <td>33.330000</td>\n",
       "      <td>1.591986e+09</td>\n",
       "    </tr>\n",
       "  </tbody>\n",
       "</table>\n",
       "</div>"
      ],
      "text/plain": [
       "              Lat         Lng    Max Temp    Humidity  Cloudiness  Wind Speed  \\\n",
       "count  555.000000  555.000000  555.000000  555.000000  555.000000  555.000000   \n",
       "mean    19.534306   19.463964   68.859550   67.659459   49.866667    8.894865   \n",
       "std     33.134362   89.667888   15.711519   20.723059   35.703758    5.583433   \n",
       "min    -54.800000 -175.200000   32.000000    9.000000    0.000000    0.360000   \n",
       "25%     -6.705000  -62.570000   57.200000   54.500000   18.000000    4.700000   \n",
       "50%     21.620000   24.730000   71.600000   72.000000   45.000000    8.050000   \n",
       "75%     48.475000   96.140000   80.645000   83.000000   85.000000   11.875000   \n",
       "max     78.220000  179.320000  107.440000  100.000000  100.000000   33.330000   \n",
       "\n",
       "               Date  \n",
       "count  5.550000e+02  \n",
       "mean   1.591986e+09  \n",
       "std    5.337594e+01  \n",
       "min    1.591986e+09  \n",
       "25%    1.591986e+09  \n",
       "50%    1.591986e+09  \n",
       "75%    1.591986e+09  \n",
       "max    1.591986e+09  "
      ]
     },
     "execution_count": 9,
     "metadata": {},
     "output_type": "execute_result"
    }
   ],
   "source": [
    "#Describe function to view the max of Humidity\n",
    "weather_dict.describe()"
   ]
  },
  {
   "cell_type": "code",
   "execution_count": 10,
   "metadata": {},
   "outputs": [
    {
     "data": {
      "text/plain": [
       "Int64Index([], dtype='int64')"
      ]
     },
     "execution_count": 10,
     "metadata": {},
     "output_type": "execute_result"
    }
   ],
   "source": [
    "#  Get the indices of cities that have humidity over 100%.\n",
    "df_filter=weather_dict.loc[weather_dict['Humidity'] >100].index\n",
    "df_filter"
   ]
  },
  {
   "cell_type": "code",
   "execution_count": 11,
   "metadata": {},
   "outputs": [
    {
     "data": {
      "text/html": [
       "<div>\n",
       "<style scoped>\n",
       "    .dataframe tbody tr th:only-of-type {\n",
       "        vertical-align: middle;\n",
       "    }\n",
       "\n",
       "    .dataframe tbody tr th {\n",
       "        vertical-align: top;\n",
       "    }\n",
       "\n",
       "    .dataframe thead th {\n",
       "        text-align: right;\n",
       "    }\n",
       "</style>\n",
       "<table border=\"1\" class=\"dataframe\">\n",
       "  <thead>\n",
       "    <tr style=\"text-align: right;\">\n",
       "      <th></th>\n",
       "      <th>City</th>\n",
       "      <th>Lat</th>\n",
       "      <th>Lng</th>\n",
       "      <th>Max Temp</th>\n",
       "      <th>Humidity</th>\n",
       "      <th>Cloudiness</th>\n",
       "      <th>Wind Speed</th>\n",
       "      <th>Country</th>\n",
       "      <th>Date</th>\n",
       "    </tr>\n",
       "  </thead>\n",
       "  <tbody>\n",
       "    <tr>\n",
       "      <td>0</td>\n",
       "      <td>geraldton</td>\n",
       "      <td>-28.77</td>\n",
       "      <td>114.60</td>\n",
       "      <td>53.60</td>\n",
       "      <td>76</td>\n",
       "      <td>40</td>\n",
       "      <td>8.05</td>\n",
       "      <td>AU</td>\n",
       "      <td>1591986205</td>\n",
       "    </tr>\n",
       "    <tr>\n",
       "      <td>1</td>\n",
       "      <td>hambantota</td>\n",
       "      <td>6.12</td>\n",
       "      <td>81.12</td>\n",
       "      <td>80.60</td>\n",
       "      <td>100</td>\n",
       "      <td>0</td>\n",
       "      <td>5.82</td>\n",
       "      <td>LK</td>\n",
       "      <td>1591986205</td>\n",
       "    </tr>\n",
       "    <tr>\n",
       "      <td>2</td>\n",
       "      <td>havre-saint-pierre</td>\n",
       "      <td>50.23</td>\n",
       "      <td>-63.60</td>\n",
       "      <td>69.80</td>\n",
       "      <td>46</td>\n",
       "      <td>1</td>\n",
       "      <td>9.17</td>\n",
       "      <td>CA</td>\n",
       "      <td>1591986205</td>\n",
       "    </tr>\n",
       "    <tr>\n",
       "      <td>3</td>\n",
       "      <td>fairbanks</td>\n",
       "      <td>64.84</td>\n",
       "      <td>-147.72</td>\n",
       "      <td>60.80</td>\n",
       "      <td>71</td>\n",
       "      <td>90</td>\n",
       "      <td>1.57</td>\n",
       "      <td>US</td>\n",
       "      <td>1591986033</td>\n",
       "    </tr>\n",
       "    <tr>\n",
       "      <td>4</td>\n",
       "      <td>rikitea</td>\n",
       "      <td>-23.12</td>\n",
       "      <td>-134.97</td>\n",
       "      <td>75.18</td>\n",
       "      <td>80</td>\n",
       "      <td>20</td>\n",
       "      <td>19.64</td>\n",
       "      <td>PF</td>\n",
       "      <td>1591986205</td>\n",
       "    </tr>\n",
       "    <tr>\n",
       "      <td>...</td>\n",
       "      <td>...</td>\n",
       "      <td>...</td>\n",
       "      <td>...</td>\n",
       "      <td>...</td>\n",
       "      <td>...</td>\n",
       "      <td>...</td>\n",
       "      <td>...</td>\n",
       "      <td>...</td>\n",
       "      <td>...</td>\n",
       "    </tr>\n",
       "    <tr>\n",
       "      <td>550</td>\n",
       "      <td>linares</td>\n",
       "      <td>-35.85</td>\n",
       "      <td>-71.60</td>\n",
       "      <td>53.91</td>\n",
       "      <td>73</td>\n",
       "      <td>61</td>\n",
       "      <td>5.70</td>\n",
       "      <td>CL</td>\n",
       "      <td>1591986231</td>\n",
       "    </tr>\n",
       "    <tr>\n",
       "      <td>551</td>\n",
       "      <td>yaan</td>\n",
       "      <td>7.38</td>\n",
       "      <td>8.57</td>\n",
       "      <td>80.22</td>\n",
       "      <td>75</td>\n",
       "      <td>89</td>\n",
       "      <td>3.06</td>\n",
       "      <td>NG</td>\n",
       "      <td>1591986231</td>\n",
       "    </tr>\n",
       "    <tr>\n",
       "      <td>552</td>\n",
       "      <td>almaznyy</td>\n",
       "      <td>48.04</td>\n",
       "      <td>40.05</td>\n",
       "      <td>78.80</td>\n",
       "      <td>50</td>\n",
       "      <td>20</td>\n",
       "      <td>8.95</td>\n",
       "      <td>RU</td>\n",
       "      <td>1591986232</td>\n",
       "    </tr>\n",
       "    <tr>\n",
       "      <td>553</td>\n",
       "      <td>salalah</td>\n",
       "      <td>17.02</td>\n",
       "      <td>54.09</td>\n",
       "      <td>86.00</td>\n",
       "      <td>84</td>\n",
       "      <td>75</td>\n",
       "      <td>5.82</td>\n",
       "      <td>OM</td>\n",
       "      <td>1591986232</td>\n",
       "    </tr>\n",
       "    <tr>\n",
       "      <td>554</td>\n",
       "      <td>ulagan</td>\n",
       "      <td>50.63</td>\n",
       "      <td>87.96</td>\n",
       "      <td>50.65</td>\n",
       "      <td>61</td>\n",
       "      <td>11</td>\n",
       "      <td>1.21</td>\n",
       "      <td>RU</td>\n",
       "      <td>1591986232</td>\n",
       "    </tr>\n",
       "  </tbody>\n",
       "</table>\n",
       "<p>555 rows × 9 columns</p>\n",
       "</div>"
      ],
      "text/plain": [
       "                   City    Lat     Lng  Max Temp  Humidity  Cloudiness  \\\n",
       "0             geraldton -28.77  114.60     53.60        76          40   \n",
       "1            hambantota   6.12   81.12     80.60       100           0   \n",
       "2    havre-saint-pierre  50.23  -63.60     69.80        46           1   \n",
       "3             fairbanks  64.84 -147.72     60.80        71          90   \n",
       "4               rikitea -23.12 -134.97     75.18        80          20   \n",
       "..                  ...    ...     ...       ...       ...         ...   \n",
       "550             linares -35.85  -71.60     53.91        73          61   \n",
       "551                yaan   7.38    8.57     80.22        75          89   \n",
       "552            almaznyy  48.04   40.05     78.80        50          20   \n",
       "553             salalah  17.02   54.09     86.00        84          75   \n",
       "554              ulagan  50.63   87.96     50.65        61          11   \n",
       "\n",
       "     Wind Speed Country        Date  \n",
       "0          8.05      AU  1591986205  \n",
       "1          5.82      LK  1591986205  \n",
       "2          9.17      CA  1591986205  \n",
       "3          1.57      US  1591986033  \n",
       "4         19.64      PF  1591986205  \n",
       "..          ...     ...         ...  \n",
       "550        5.70      CL  1591986231  \n",
       "551        3.06      NG  1591986231  \n",
       "552        8.95      RU  1591986232  \n",
       "553        5.82      OM  1591986232  \n",
       "554        1.21      RU  1591986232  \n",
       "\n",
       "[555 rows x 9 columns]"
      ]
     },
     "execution_count": 11,
     "metadata": {},
     "output_type": "execute_result"
    }
   ],
   "source": [
    "# Make a new DataFrame equal to the city data to drop all humidity outliers by index.\n",
    "# Passing \"inplace=False\" will make a copy of the city_data DataFrame, which we call \"clean_city_data\".\n",
    "\n",
    "cleaned_data=weather_dict.drop(df_filter, inplace=False)\n",
    "cleaned_data"
   ]
  },
  {
   "cell_type": "code",
   "execution_count": 12,
   "metadata": {},
   "outputs": [
    {
     "data": {
      "text/html": [
       "<div>\n",
       "<style scoped>\n",
       "    .dataframe tbody tr th:only-of-type {\n",
       "        vertical-align: middle;\n",
       "    }\n",
       "\n",
       "    .dataframe tbody tr th {\n",
       "        vertical-align: top;\n",
       "    }\n",
       "\n",
       "    .dataframe thead th {\n",
       "        text-align: right;\n",
       "    }\n",
       "</style>\n",
       "<table border=\"1\" class=\"dataframe\">\n",
       "  <thead>\n",
       "    <tr style=\"text-align: right;\">\n",
       "      <th></th>\n",
       "      <th>Lat</th>\n",
       "      <th>Max Temp</th>\n",
       "      <th>Humidity</th>\n",
       "      <th>Cloudiness</th>\n",
       "      <th>Wind Speed</th>\n",
       "    </tr>\n",
       "  </thead>\n",
       "  <tbody>\n",
       "    <tr>\n",
       "      <td>0</td>\n",
       "      <td>-28.77</td>\n",
       "      <td>53.60</td>\n",
       "      <td>76</td>\n",
       "      <td>40</td>\n",
       "      <td>8.05</td>\n",
       "    </tr>\n",
       "    <tr>\n",
       "      <td>1</td>\n",
       "      <td>6.12</td>\n",
       "      <td>80.60</td>\n",
       "      <td>100</td>\n",
       "      <td>0</td>\n",
       "      <td>5.82</td>\n",
       "    </tr>\n",
       "    <tr>\n",
       "      <td>2</td>\n",
       "      <td>50.23</td>\n",
       "      <td>69.80</td>\n",
       "      <td>46</td>\n",
       "      <td>1</td>\n",
       "      <td>9.17</td>\n",
       "    </tr>\n",
       "    <tr>\n",
       "      <td>3</td>\n",
       "      <td>64.84</td>\n",
       "      <td>60.80</td>\n",
       "      <td>71</td>\n",
       "      <td>90</td>\n",
       "      <td>1.57</td>\n",
       "    </tr>\n",
       "    <tr>\n",
       "      <td>4</td>\n",
       "      <td>-23.12</td>\n",
       "      <td>75.18</td>\n",
       "      <td>80</td>\n",
       "      <td>20</td>\n",
       "      <td>19.64</td>\n",
       "    </tr>\n",
       "    <tr>\n",
       "      <td>...</td>\n",
       "      <td>...</td>\n",
       "      <td>...</td>\n",
       "      <td>...</td>\n",
       "      <td>...</td>\n",
       "      <td>...</td>\n",
       "    </tr>\n",
       "    <tr>\n",
       "      <td>550</td>\n",
       "      <td>-35.85</td>\n",
       "      <td>53.91</td>\n",
       "      <td>73</td>\n",
       "      <td>61</td>\n",
       "      <td>5.70</td>\n",
       "    </tr>\n",
       "    <tr>\n",
       "      <td>551</td>\n",
       "      <td>7.38</td>\n",
       "      <td>80.22</td>\n",
       "      <td>75</td>\n",
       "      <td>89</td>\n",
       "      <td>3.06</td>\n",
       "    </tr>\n",
       "    <tr>\n",
       "      <td>552</td>\n",
       "      <td>48.04</td>\n",
       "      <td>78.80</td>\n",
       "      <td>50</td>\n",
       "      <td>20</td>\n",
       "      <td>8.95</td>\n",
       "    </tr>\n",
       "    <tr>\n",
       "      <td>553</td>\n",
       "      <td>17.02</td>\n",
       "      <td>86.00</td>\n",
       "      <td>84</td>\n",
       "      <td>75</td>\n",
       "      <td>5.82</td>\n",
       "    </tr>\n",
       "    <tr>\n",
       "      <td>554</td>\n",
       "      <td>50.63</td>\n",
       "      <td>50.65</td>\n",
       "      <td>61</td>\n",
       "      <td>11</td>\n",
       "      <td>1.21</td>\n",
       "    </tr>\n",
       "  </tbody>\n",
       "</table>\n",
       "<p>555 rows × 5 columns</p>\n",
       "</div>"
      ],
      "text/plain": [
       "       Lat  Max Temp  Humidity  Cloudiness  Wind Speed\n",
       "0   -28.77     53.60        76          40        8.05\n",
       "1     6.12     80.60       100           0        5.82\n",
       "2    50.23     69.80        46           1        9.17\n",
       "3    64.84     60.80        71          90        1.57\n",
       "4   -23.12     75.18        80          20       19.64\n",
       "..     ...       ...       ...         ...         ...\n",
       "550 -35.85     53.91        73          61        5.70\n",
       "551   7.38     80.22        75          89        3.06\n",
       "552  48.04     78.80        50          20        8.95\n",
       "553  17.02     86.00        84          75        5.82\n",
       "554  50.63     50.65        61          11        1.21\n",
       "\n",
       "[555 rows x 5 columns]"
      ]
     },
     "execution_count": 12,
     "metadata": {},
     "output_type": "execute_result"
    }
   ],
   "source": [
    "# Extract relevant fields from the data frame\n",
    "\n",
    "extracted_data=cleaned_data[[\"Lat\",\"Max Temp\",\"Humidity\",\"Cloudiness\",\"Wind Speed\"]]\n",
    "extracted_data\n"
   ]
  },
  {
   "cell_type": "markdown",
   "metadata": {},
   "source": [
    "## Plotting the Data\n",
    "* Use proper labeling of the plots using plot titles (including date of analysis) and axes labels.\n",
    "* Save the plotted figures as .pngs."
   ]
  },
  {
   "cell_type": "markdown",
   "metadata": {},
   "source": [
    "## Latitude vs. Temperature Plot"
   ]
  },
  {
   "cell_type": "code",
   "execution_count": 32,
   "metadata": {
    "scrolled": true
   },
   "outputs": [
    {
     "data": {
      "image/png": "[encoded data removed]",
      "text/plain": [
       "<Figure size 432x288 with 1 Axes>"
      ]
     },
     "metadata": {
      "needs_background": "light"
     },
     "output_type": "display_data"
    }
   ],
   "source": [
    "# Create a Scatter Plot for temperature vs latitude\n",
    "plt.scatter(extracted_data[\"Lat\"], extracted_data[\"Max Temp\"], facecolor = \"steelblue\", edgecolor = \"black\")\n",
    "#labeling x and y \n",
    "plt.xlabel('Latitude')\n",
    "plt.ylabel('Temperature')\n",
    "#labeling title\n",
    "plt.title(\"City Latitude vs. Humidity (6/12/2020)\")\n",
    "#Adding gridlines\n",
    "plt.grid(b=None, which='major', axis='both')\n",
    "# Save the plotted figure as .pngs\n",
    "plt.savefig(\"../Images/City Latitude vs Max Temperature.png\")\n",
    "plt.show()"
   ]
  },
  {
   "cell_type": "markdown",
   "metadata": {},
   "source": [
    "As latitude increases, the temperature decreases.\n",
    "As latitude decreases, the temperature decreases."
   ]
  },
  {
   "cell_type": "markdown",
   "metadata": {},
   "source": [
    "## Latitude vs. Humidity Plot"
   ]
  },
  {
   "cell_type": "code",
   "execution_count": 33,
   "metadata": {},
   "outputs": [
    {
     "data": {
      "image/png": "[encoded data removed]",
      "text/plain": [
       "<Figure size 432x288 with 1 Axes>"
      ]
     },
     "metadata": {
      "needs_background": "light"
     },
     "output_type": "display_data"
    }
   ],
   "source": [
    "# Create a Scatter Plot for humidity vs latitude\n",
    "plt.scatter(extracted_data[\"Lat\"], extracted_data[\"Humidity\"], facecolor = \"steelblue\", edgecolor = \"black\")\n",
    "# labeling x and y \n",
    "plt.xlabel('Latitude')\n",
    "plt.ylabel('Humidity (%)')\n",
    "# labeling title\n",
    "plt.title(\"City Latitude vs. Humidity (6/12/2020)\")\n",
    "# Adding gridlines\n",
    "plt.grid(b=None, which='major', axis='both')\n",
    "# Save the plotted figure as .pngs\n",
    "plt.savefig(\"../Images/City Latitude vs Humidity.png\")\n",
    "plt.show()"
   ]
  },
  {
   "cell_type": "markdown",
   "metadata": {},
   "source": [
    "As latitude increases, the humidity increases."
   ]
  },
  {
   "cell_type": "markdown",
   "metadata": {},
   "source": [
    "## Latitude vs. Cloudiness Plot"
   ]
  },
  {
   "cell_type": "code",
   "execution_count": 34,
   "metadata": {},
   "outputs": [
    {
     "data": {
      "image/png": "[encoded data removed]",
      "text/plain": [
       "<Figure size 432x288 with 1 Axes>"
      ]
     },
     "metadata": {
      "needs_background": "light"
     },
     "output_type": "display_data"
    }
   ],
   "source": [
    "# Create a Scatter Plot for cloudiness vs latitude\n",
    "plt.scatter(extracted_data[\"Lat\"], extracted_data[\"Cloudiness\"], facecolor = \"steelblue\", edgecolor = \"black\")\n",
    "#labeling x and y \n",
    "plt.xlabel('Latitude')\n",
    "plt.ylabel('Humidity (%)')\n",
    "#labeling title\n",
    "plt.title(\"City Latitude vs. Cloudiness (6/12/2020)\")\n",
    "#Adding gridlines\n",
    "plt.grid(b=None, which='major', axis='both')\n",
    "#Save the plotted figure as .pngs\n",
    "plt.savefig(\"../Images/City Latitude vs Cloudiness.png\")\n",
    "plt.show()"
   ]
  },
  {
   "cell_type": "markdown",
   "metadata": {},
   "source": [
    "Cloudiness data is widely spread across. No relationship is determined. "
   ]
  },
  {
   "cell_type": "markdown",
   "metadata": {},
   "source": [
    "## Latitude vs. Wind Speed Plot"
   ]
  },
  {
   "cell_type": "code",
   "execution_count": 35,
   "metadata": {},
   "outputs": [
    {
     "data": {
      "image/png": "[encoded data removed]",
      "text/plain": [
       "<Figure size 432x288 with 1 Axes>"
      ]
     },
     "metadata": {
      "needs_background": "light"
     },
     "output_type": "display_data"
    }
   ],
   "source": [
    "# Create a Scatter Plot for windspeed vs latitude\n",
    "plt.scatter(extracted_data[\"Lat\"], extracted_data[\"Wind Speed\"], facecolor = \"steelblue\", edgecolor = \"black\")\n",
    "#labeling x and y \n",
    "plt.xlabel('Latitude')\n",
    "plt.ylabel('Wind Speed (%)')\n",
    "#labeling title\n",
    "plt.title(\"City Latitude vs. Wind Speed(6/12/2020)\")\n",
    "#Adding gridlines\n",
    "plt.grid(b=None, which='major', axis='both')\n",
    "# Save the plotted figure as .pngs\n",
    "plt.savefig(\"../Images/City Latitude vs Wind Speed (mph).png\")\n",
    "plt.show()"
   ]
  },
  {
   "cell_type": "markdown",
   "metadata": {},
   "source": [
    "Wind Speed data is widely spread across. No relationship is determined. "
   ]
  },
  {
   "cell_type": "markdown",
   "metadata": {},
   "source": [
    "## Linear Regression"
   ]
  },
  {
   "cell_type": "code",
   "execution_count": 17,
   "metadata": {},
   "outputs": [],
   "source": [
    "# Create Northern and Southern Hemisphere DataFrames\n",
    "northern_hemisphere = cleaned_data.loc[weather_dict[\"Lat\"] >= 0]\n",
    "southern_hemisphere = cleaned_data.loc[weather_dict[\"Lat\"] < 0]"
   ]
  },
  {
   "cell_type": "code",
   "execution_count": 18,
   "metadata": {},
   "outputs": [],
   "source": [
    "# Define function for creating linear agression and scatter plot\n",
    "\n",
    "#Function 1: Linear aggression\n",
    "\n",
    "def linear_agression(x,y):\n",
    "    print(f\"The r-squared is : {round(st.pearsonr(x, y)[0],2)}\")\n",
    "    (slope, intercept, rvalue, pvalue, stderr) = linregress(x, y)\n",
    "    regress_values = x * slope + intercept\n",
    "    line_eq = \"y = \" + str(round(slope,2)) + \"x + \" + str(round(intercept,2))\n",
    "    plt.scatter(x, y)\n",
    "    plt.plot(x,regress_values,\"r-\")\n",
    "    return line_eq\n",
    "\n",
    "#Function2: annotating\n",
    "def annotate(line_eq, a, b):\n",
    "    plt.annotate(line_eq,(a,b),fontsize=15,color=\"red\")"
   ]
  },
  {
   "cell_type": "markdown",
   "metadata": {},
   "source": [
    "####  Northern Hemisphere - Max Temp vs. Latitude Linear Regression"
   ]
  },
  {
   "cell_type": "code",
   "execution_count": 20,
   "metadata": {},
   "outputs": [
    {
     "name": "stdout",
     "output_type": "stream",
     "text": [
      "The r-squared is : -0.76\n"
     ]
    },
    {
     "data": {
      "image/png": "[encoded data removed]",
      "text/plain": [
       "<Figure size 432x288 with 1 Axes>"
      ]
     },
     "metadata": {
      "needs_background": "light"
     },
     "output_type": "display_data"
    }
   ],
   "source": [
    "# Calling function 1: linear agression\n",
    "equation = linear_agression(northern_hemisphere[\"Lat\"], northern_hemisphere[\"Max Temp\"])\n",
    "\n",
    "# Call an function #2: annotation\n",
    "annotate(equation, 0, 35)\n",
    "\n",
    "# Set a title\n",
    "plt.title(\"Northern Hemisphere - Max Temp (F) vs. Latitude Linear Regression\")\n",
    "\n",
    "# Set xlabel\n",
    "plt.xlabel(\"Latitude\")\n",
    "\n",
    "# Set ylabel\n",
    "plt.ylabel(\"Max Temp (F)\")\n",
    "\n",
    "# Save the figure\n",
    "plt.savefig(\"../Images/Northern Hemisphere - Max Temp vs. Latitude Linear Regression.png\")"
   ]
  },
  {
   "cell_type": "markdown",
   "metadata": {},
   "source": [
    "####  Southern Hemisphere - Max Temp vs. Latitude Linear Regression"
   ]
  },
  {
   "cell_type": "code",
   "execution_count": 21,
   "metadata": {},
   "outputs": [
    {
     "name": "stdout",
     "output_type": "stream",
     "text": [
      "The r-squared is : 0.81\n"
     ]
    },
    {
     "data": {
      "image/png": "[encoded data removed]",
      "text/plain": [
       "<Figure size 432x288 with 1 Axes>"
      ]
     },
     "metadata": {
      "needs_background": "light"
     },
     "output_type": "display_data"
    }
   ],
   "source": [
    "# Calling function 1: linear agression\n",
    "equation = linear_agression(southern_hemisphere[\"Lat\"], southern_hemisphere[\"Max Temp\"])\n",
    "\n",
    "# Call an function #2: annotation\n",
    "annotate(equation, -30, 0)\n",
    "\n",
    "# Set a title\n",
    "plt.title(\"Southern Hemisphere - Max Temp (F) vs. Latitude Linear Regression\")\n",
    "\n",
    "# Set xlabel\n",
    "plt.xlabel(\"Latitude\")\n",
    "\n",
    "# Set ylabel\n",
    "plt.ylabel(\"Max Temp (F)\")\n",
    "\n",
    "# Save the figure\n",
    "plt.savefig(\"../Images/Southern Hemisphere - Max Temp vs. Latitude Linear Regression.png\")"
   ]
  },
  {
   "cell_type": "markdown",
   "metadata": {},
   "source": [
    "####  Northern Hemisphere - Humidity (%) vs. Latitude Linear Regression"
   ]
  },
  {
   "cell_type": "code",
   "execution_count": 22,
   "metadata": {},
   "outputs": [
    {
     "name": "stdout",
     "output_type": "stream",
     "text": [
      "The r-squared is : 0.05\n"
     ]
    },
    {
     "data": {
      "image/png": "[encoded data removed]",
      "text/plain": [
       "<Figure size 432x288 with 1 Axes>"
      ]
     },
     "metadata": {
      "needs_background": "light"
     },
     "output_type": "display_data"
    }
   ],
   "source": [
    "# Calling function 1: linear agression\n",
    "equation = linear_agression(northern_hemisphere[\"Lat\"], northern_hemisphere[\"Humidity\"])\n",
    "\n",
    "# Call an function #2: annotation\n",
    "annotate(equation, 40, 10)\n",
    "\n",
    "# Set a title\n",
    "plt.title(\"Northern Hemisphere - Humidity (%) vs. Latitude Linear Regression\")\n",
    "\n",
    "# Set xlabel\n",
    "plt.xlabel(\"Latitude\")\n",
    "\n",
    "# Set ylabel\n",
    "plt.ylabel(\"Humidity (%)\")\n",
    "\n",
    "# Save the figure\n",
    "plt.savefig(\"../Images/Northern Hemisphere - Humidity (%) vs. Latitude Linear Regression.png\")"
   ]
  },
  {
   "cell_type": "markdown",
   "metadata": {},
   "source": [
    "####  Southern Hemisphere - Humidity (%) vs. Latitude Linear Regression"
   ]
  },
  {
   "cell_type": "code",
   "execution_count": 23,
   "metadata": {},
   "outputs": [
    {
     "name": "stdout",
     "output_type": "stream",
     "text": [
      "The r-squared is : 0.01\n"
     ]
    },
    {
     "data": {
      "image/png": "[encoded data removed]",
      "text/plain": [
       "<Figure size 432x288 with 1 Axes>"
      ]
     },
     "metadata": {
      "needs_background": "light"
     },
     "output_type": "display_data"
    }
   ],
   "source": [
    "# Calling function 1: linear agression\n",
    "equation = linear_agression(southern_hemisphere[\"Lat\"], southern_hemisphere[\"Humidity\"])\n",
    "\n",
    "# Call an function #2: annotation\n",
    "annotate(equation, -30, 10)\n",
    "\n",
    "# Set a title\n",
    "plt.title(\"Southern Hemisphere - Humidity (%) vs. Latitude Linear Regression\")\n",
    "\n",
    "# Set xlabel\n",
    "plt.xlabel(\"Latitude\")\n",
    "\n",
    "# Set ylabel\n",
    "plt.ylabel(\"Humidity (%)\")\n",
    "\n",
    "# Save the figure\n",
    "plt.savefig(\"../Images/Southern Hemisphere - Humidity (%) vs. Latitude Linear Regression.png\")"
   ]
  },
  {
   "cell_type": "markdown",
   "metadata": {},
   "source": [
    "####  Northern Hemisphere - Cloudiness (%) vs. Latitude Linear Regression"
   ]
  },
  {
   "cell_type": "code",
   "execution_count": 24,
   "metadata": {},
   "outputs": [
    {
     "name": "stdout",
     "output_type": "stream",
     "text": [
      "The r-squared is : 0.07\n"
     ]
    },
    {
     "data": {
      "image/png": "[encoded data removed]",
      "text/plain": [
       "<Figure size 432x288 with 1 Axes>"
      ]
     },
     "metadata": {
      "needs_background": "light"
     },
     "output_type": "display_data"
    }
   ],
   "source": [
    "# Calling function 1: linear agression\n",
    "equation = linear_agression(northern_hemisphere[\"Lat\"], northern_hemisphere[\"Cloudiness\"])\n",
    "\n",
    "# Call an function #2: annotation\n",
    "annotate(equation, 50, 10)\n",
    "\n",
    "# Set a title\n",
    "plt.title(\"Northern Hemisphere - Cloudiness (%) vs. Latitude Linear Regression\")\n",
    "\n",
    "# Set xlabel\n",
    "plt.xlabel(\"Latitude\")\n",
    "\n",
    "# Set ylabel\n",
    "plt.ylabel(\"Cloudiness (%)\")\n",
    "\n",
    "# Save the figure\n",
    "plt.savefig(\"../Images/Northern Hemisphere - Cloudiness (%) vs. Latitude Linear Regression.png\")"
   ]
  },
  {
   "cell_type": "markdown",
   "metadata": {},
   "source": [
    "####  Southern Hemisphere - Cloudiness (%) vs. Latitude Linear Regression"
   ]
  },
  {
   "cell_type": "code",
   "execution_count": 25,
   "metadata": {},
   "outputs": [
    {
     "name": "stdout",
     "output_type": "stream",
     "text": [
      "The r-squared is : 0.03\n"
     ]
    },
    {
     "data": {
      "image/png": "[encoded data removed]",
      "text/plain": [
       "<Figure size 432x288 with 1 Axes>"
      ]
     },
     "metadata": {
      "needs_background": "light"
     },
     "output_type": "display_data"
    }
   ],
   "source": [
    "# Calling function 1: linear agression\n",
    "equation = linear_agression(southern_hemisphere[\"Lat\"], southern_hemisphere[\"Cloudiness\"])\n",
    "\n",
    "# Call an function #2: annotation\n",
    "annotate(equation, -50, 40)\n",
    "\n",
    "# Set a title\n",
    "plt.title(\"Southern Hemisphere - Cloudiness (%) vs. Latitude Linear Regression\")\n",
    "\n",
    "# Set xlabel\n",
    "plt.xlabel(\"Latitude\")\n",
    "\n",
    "# Set ylabel\n",
    "plt.ylabel(\"Cloudiness (%)\")\n",
    "\n",
    "# Save the figure\n",
    "plt.savefig(\"../Images/Southern Hemisphere - Cloudiness (%) vs. Latitude Linear Regression.png\")"
   ]
  },
  {
   "cell_type": "markdown",
   "metadata": {},
   "source": [
    "####  Northern Hemisphere - Wind Speed (mph) vs. Latitude Linear Regression"
   ]
  },
  {
   "cell_type": "code",
   "execution_count": 26,
   "metadata": {},
   "outputs": [
    {
     "name": "stdout",
     "output_type": "stream",
     "text": [
      "The r-squared is : 0.14\n"
     ]
    },
    {
     "data": {
      "image/png": "[encoded data removed]",
      "text/plain": [
       "<Figure size 432x288 with 1 Axes>"
      ]
     },
     "metadata": {
      "needs_background": "light"
     },
     "output_type": "display_data"
    }
   ],
   "source": [
    "# Calling function 1: linear agression\n",
    "equation = linear_agression(northern_hemisphere[\"Lat\"], northern_hemisphere[\"Wind Speed\"])\n",
    "\n",
    "# Call an function #2: annotation\n",
    "annotate(equation, 40, 10)\n",
    "\n",
    "# Set a title\n",
    "plt.title(\"Northern Hemisphere - Wind Speed (mph) vs. Latitude Linear Regression\")\n",
    "\n",
    "# Set xlabel\n",
    "plt.xlabel(\"Latitude\")\n",
    "\n",
    "# Set ylabel\n",
    "plt.ylabel(\"Wind Speed (mph)\")\n",
    "\n",
    "# Save the figure\n",
    "plt.savefig(\"../Images/Northern Hemisphere - Wind Speed vs. Latitude Linear Regression.png\")"
   ]
  },
  {
   "cell_type": "markdown",
   "metadata": {},
   "source": [
    "####  Southern Hemisphere - Wind Speed (mph) vs. Latitude Linear Regression"
   ]
  },
  {
   "cell_type": "code",
   "execution_count": 27,
   "metadata": {
    "scrolled": true
   },
   "outputs": [
    {
     "name": "stdout",
     "output_type": "stream",
     "text": [
      "The r-squared is : -0.1\n"
     ]
    },
    {
     "data": {
      "image/png": "[encoded data removed]",
      "text/plain": [
       "<Figure size 432x288 with 1 Axes>"
      ]
     },
     "metadata": {
      "needs_background": "light"
     },
     "output_type": "display_data"
    }
   ],
   "source": [
    "# Calling function 1: linear agression\n",
    "equation = linear_agression(southern_hemisphere[\"Lat\"], southern_hemisphere[\"Wind Speed\"])\n",
    "\n",
    "# Call an function #2: annotation\n",
    "annotate(equation, -50, 5)\n",
    "\n",
    "# Set a title\n",
    "plt.title(\"Southern Hemisphere - Wind Speed (mph) vs. Latitude Linear Regression\")\n",
    "\n",
    "# Set xlabel\n",
    "plt.xlabel(\"Latitude\")\n",
    "\n",
    "# Set ylabel\n",
    "plt.ylabel(\"Wind Speed (mph)\")\n",
    "\n",
    "# Save the figure\n",
    "plt.savefig(\"../Images/Southern Hemisphere - Wind Speed vs. Latitude Linear Regression.png\")"
   ]
  },
  {
   "cell_type": "code",
   "execution_count": null,
   "metadata": {},
   "outputs": [],
   "source": []
  }
 ],
 "metadata": {
  "anaconda-cloud": {},
  "kernel_info": {
   "name": "python3"
  },
  "kernelspec": {
   "display_name": "Python 3",
   "language": "python",
   "name": "python3"
  },
  "language_info": {
   "codemirror_mode": {
    "name": "ipython",
    "version": 3
   },
   "file_extension": ".py",
   "mimetype": "text/x-python",
   "name": "python",
   "nbconvert_exporter": "python",
   "pygments_lexer": "ipython3",
   "version": "3.7.4"
  },
  "latex_envs": {
   "LaTeX_envs_menu_present": true,
   "autoclose": false,
   "autocomplete": true,
   "bibliofile": "biblio.bib",
   "cite_by": "apalike",
   "current_citInitial": 1,
   "eqLabelWithNumbers": true,
   "eqNumInitial": 1,
   "hotkeys": {
    "equation": "Ctrl-E",
    "itemize": "Ctrl-I"
   },
   "labels_anchors": false,
   "latex_user_defs": false,
   "report_style_numbering": false,
   "user_envs_cfg": false
  },
  "nteract": {
   "version": "0.12.3"
  }
 },
 "nbformat": 4,
 "nbformat_minor": 2
}
